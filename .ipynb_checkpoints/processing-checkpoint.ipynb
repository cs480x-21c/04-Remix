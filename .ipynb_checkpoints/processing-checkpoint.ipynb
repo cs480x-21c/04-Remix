{
 "cells": [
  {
   "cell_type": "markdown",
   "metadata": {},
   "source": [
    "## Process U.S. Net Generation Data (2000-2020)"
   ]
  },
  {
   "cell_type": "markdown",
   "metadata": {},
   "source": [
    "[Data Gathered by U.S. Energy Information Administration](https://www.eia.gov/electricity/data/browser/#/topic/0?agg=2,0,1&fuel=vvg&geo=g&sec=g&linechart=ELEC.GEN.ALL-US-99.M~ELEC.GEN.COW-US-99.M~ELEC.GEN.NG-US-99.M~ELEC.GEN.NUC-US-99.M~ELEC.GEN.HYC-US-99.M&columnchart=ELEC.GEN.ALL-US-99.M~ELEC.GEN.COW-US-99.M~ELEC.GEN.NG-US-99.M~ELEC.GEN.NUC-US-99.M~ELEC.GEN.HYC-US-99.M&map=ELEC.GEN.ALL-US-99.M&freq=M&start=200101&end=202012&chartindexed=0&ctype=linechart&ltype=pin&rtype=s&maptype=0&rse=0&pin=)."
   ]
  },
  {
   "cell_type": "code",
   "execution_count": 1,
   "metadata": {},
   "outputs": [],
   "source": [
    "import pandas as pd\n",
    "import matplotlib.pyplot as plt"
   ]
  },
  {
   "cell_type": "code",
   "execution_count": 2,
   "metadata": {},
   "outputs": [],
   "source": [
    "data = pd.read_csv('Net_generation_United_States_all_sectors_monthly.csv')"
   ]
  },
  {
   "cell_type": "code",
   "execution_count": 3,
   "metadata": {},
   "outputs": [],
   "source": [
    "# converts 'month' to 'year'\n",
    "for index, row in data.iterrows():\n",
    "    year = row.month.split('-')[0]\n",
    "    if len(year) == 1:\n",
    "        data.loc[index, 'month'] = \"200\"+year\n",
    "    else:\n",
    "        data.loc[index, 'month'] = \"20\"+year\n",
    "data = data.rename(columns={\"month\": \"year\"})\n",
    "\n",
    "# group by year using mean\n",
    "data = data.groupby(['year']).mean()\n",
    "data = data.reset_index()\n",
    "\n",
    "# drop 'all' column\n",
    "data = data.drop('all', axis=1)\n",
    "\n",
    "# sort by year\n",
    "data.year = data.year.astype(int)\n",
    "data = data.sort_values(by=['year'])\n",
    "data.year = data.year.astype(str)\n",
    "data = data.reset_index(drop=True)\n",
    "\n",
    "# melt each type column into one 'type' column\n",
    "data = data.melt(id_vars=[\"year\"], \n",
    "                var_name=\"type\", \n",
    "                value_name=\"value\")"
   ]
  },
  {
   "cell_type": "code",
   "execution_count": 4,
   "metadata": {},
   "outputs": [],
   "source": [
    "data.to_csv('final_data.csv', index=False)"
   ]
  }
 ],
 "metadata": {
  "kernelspec": {
   "display_name": "Python 3",
   "language": "python",
   "name": "python3"
  },
  "language_info": {
   "codemirror_mode": {
    "name": "ipython",
    "version": 3
   },
   "file_extension": ".py",
   "mimetype": "text/x-python",
   "name": "python",
   "nbconvert_exporter": "python",
   "pygments_lexer": "ipython3",
   "version": "3.7.9"
  }
 },
 "nbformat": 4,
 "nbformat_minor": 4
}
